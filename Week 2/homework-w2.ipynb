{
  "cells": [
    {
      "metadata": {
        "collapsed": true,
        "id": "D5tCNOwRTk3u"
      },
      "cell_type": "markdown",
      "source": [
        "# BL40A2010 Introduction to IoT-Based Systems\n",
        "\n",
        "## Assignment 2, 28.01.2024\n",
        "\n",
        "### Author: Sepideh Soleimani"
      ]
    },
    {
      "metadata": {
        "id": "wR76IQy4Tk30"
      },
      "cell_type": "markdown",
      "source": [
        "**(1) Give one example of each of the following type of data.**"
      ]
    },
    {
      "metadata": {
        "id": "gEfV7_eLTk30"
      },
      "cell_type": "markdown",
      "source": [
        "Answer:\n",
        "\n",
        "(a) Analog: voice in a room\n",
        "\n",
        "(b) Digital: voice stored in a video\n",
        "\n",
        "(c) Primary: numbers in spreadsheets\n",
        "\n",
        "(d) Secondary (i.e., lack of data that is informative): absence of sound in an office\n",
        "\n",
        "(e) Metadata: the location or time of a taken photo\n",
        "\n",
        "(f) Environmental: the temperature measured by the thermometer"
      ]
    },
    {
      "metadata": {
        "id": "bQYZgfiTTk31"
      },
      "cell_type": "markdown",
      "source": [
        "**(2) Write one example when the same structured data can be classified as (a) information, (b) redundancy and (c) not interpretable.**"
      ]
    },
    {
      "metadata": {
        "id": "ysrBOl87Tk31"
      },
      "cell_type": "markdown",
      "source": [
        "Answer:\n",
        "\n",
        "1. When someone is not familiar with a subject, by studying and gaining some knowledge about it, would be information.\n",
        "2. When someone is an expert about a subject, reviewing the same subject would be a repeatitive and redundant data.\n",
        "3. When a subject is taught or presented in a language that a person doesn't know it, the data wouldn't be iterable for that person."
      ]
    },
    {
      "metadata": {
        "id": "H6LI2dqeTk31"
      },
      "cell_type": "markdown",
      "source": [
        "**(3) Photo-voltaic generation converts the sun's radiation into usable electricity. In this task, you will get the *direct solar radiation* with 1 minute time interval from the *Radiation observations*  at [FMI](http://en.ilmatieteenlaitos.fi/download-observations#!/). Plot radiation profile of three different days so that one must be in March, other in July and the last in December (regardless of the year). What measuring station was used? Compare the solar radiation in those 3 days and provide *information* about the potential of solar generation in those days. You can also select the measuring station (but write it in the answer).**\n",
        "\n",
        "*Hint:* Code like in the tutorial notebook."
      ]
    },
    {
      "metadata": {
        "trusted": false,
        "colab": {
          "base_uri": "https://localhost:8080/"
        },
        "id": "CyiE7rx8Tk32",
        "outputId": "d57f2754-7827-4140-a811-2469d697158a"
      },
      "cell_type": "code",
      "source": [
        "!pip install pandas\n",
        "!pip install matplotlib\n",
        "!pip install pyarrow"
      ],
      "execution_count": 1,
      "outputs": [
        {
          "output_type": "stream",
          "name": "stdout",
          "text": [
            "Requirement already satisfied: pandas in /usr/local/lib/python3.10/dist-packages (1.5.3)\n",
            "Requirement already satisfied: python-dateutil>=2.8.1 in /usr/local/lib/python3.10/dist-packages (from pandas) (2.8.2)\n",
            "Requirement already satisfied: pytz>=2020.1 in /usr/local/lib/python3.10/dist-packages (from pandas) (2023.4)\n",
            "Requirement already satisfied: numpy>=1.21.0 in /usr/local/lib/python3.10/dist-packages (from pandas) (1.25.2)\n",
            "Requirement already satisfied: six>=1.5 in /usr/local/lib/python3.10/dist-packages (from python-dateutil>=2.8.1->pandas) (1.16.0)\n",
            "Requirement already satisfied: matplotlib in /usr/local/lib/python3.10/dist-packages (3.7.1)\n",
            "Requirement already satisfied: contourpy>=1.0.1 in /usr/local/lib/python3.10/dist-packages (from matplotlib) (1.2.0)\n",
            "Requirement already satisfied: cycler>=0.10 in /usr/local/lib/python3.10/dist-packages (from matplotlib) (0.12.1)\n",
            "Requirement already satisfied: fonttools>=4.22.0 in /usr/local/lib/python3.10/dist-packages (from matplotlib) (4.50.0)\n",
            "Requirement already satisfied: kiwisolver>=1.0.1 in /usr/local/lib/python3.10/dist-packages (from matplotlib) (1.4.5)\n",
            "Requirement already satisfied: numpy>=1.20 in /usr/local/lib/python3.10/dist-packages (from matplotlib) (1.25.2)\n",
            "Requirement already satisfied: packaging>=20.0 in /usr/local/lib/python3.10/dist-packages (from matplotlib) (24.0)\n",
            "Requirement already satisfied: pillow>=6.2.0 in /usr/local/lib/python3.10/dist-packages (from matplotlib) (9.4.0)\n",
            "Requirement already satisfied: pyparsing>=2.3.1 in /usr/local/lib/python3.10/dist-packages (from matplotlib) (3.1.2)\n",
            "Requirement already satisfied: python-dateutil>=2.7 in /usr/local/lib/python3.10/dist-packages (from matplotlib) (2.8.2)\n",
            "Requirement already satisfied: six>=1.5 in /usr/local/lib/python3.10/dist-packages (from python-dateutil>=2.7->matplotlib) (1.16.0)\n",
            "Requirement already satisfied: pyarrow in /usr/local/lib/python3.10/dist-packages (14.0.2)\n",
            "Requirement already satisfied: numpy>=1.16.6 in /usr/local/lib/python3.10/dist-packages (from pyarrow) (1.25.2)\n"
          ]
        }
      ]
    },
    {
      "cell_type": "code",
      "source": [
        "import matplotlib.pyplot as plt #https://matplotlib.org/\n",
        "import matplotlib.dates as mdates #https://matplotlib.org/\n",
        "import pandas as pd"
      ],
      "metadata": {
        "id": "sNjHNijeUrV1"
      },
      "execution_count": 2,
      "outputs": []
    },
    {
      "cell_type": "code",
      "source": [
        "import warnings\n",
        "warnings.filterwarnings('ignore')"
      ],
      "metadata": {
        "id": "lqs4dPvcUwO0"
      },
      "execution_count": 3,
      "outputs": []
    },
    {
      "metadata": {
        "id": "gr8G9qGKTk32"
      },
      "cell_type": "markdown",
      "source": [
        "**(4) Read the text [What Does the Metaverse Mean for the Future of Energy Consumption?](https://earth.org/metaverse-energy-consumption/). Write a brief analysis of the text based on the relation between data, energy and level of processes. From the energy perspective, is it possible to maintain this kind of technologies? Note: This is clearly not a right/wrong question, but a space to critically think about current issues related to the course.**"
      ]
    },
    {
      "metadata": {
        "id": "Ar9p0adHTk33"
      },
      "cell_type": "markdown",
      "source": [
        "Answer:"
      ]
    }
  ],
  "metadata": {
    "kernelspec": {
      "name": "python36",
      "display_name": "Python 3.6",
      "language": "python"
    },
    "language_info": {
      "mimetype": "text/x-python",
      "nbconvert_exporter": "python",
      "name": "python",
      "pygments_lexer": "ipython3",
      "version": "3.6.6",
      "file_extension": ".py",
      "codemirror_mode": {
        "version": 3,
        "name": "ipython"
      }
    },
    "colab": {
      "provenance": []
    }
  },
  "nbformat": 4,
  "nbformat_minor": 0
}