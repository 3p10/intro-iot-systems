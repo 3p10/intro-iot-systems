{
  "cells": [
    {
      "metadata": {
        "collapsed": true,
        "id": "D5tCNOwRTk3u"
      },
      "cell_type": "markdown",
      "source": [
        "# BL40A2010 Introduction to IoT-Based Systems\n",
        "\n",
        "## Assignment 2, 28.01.2024\n",
        "\n",
        "### Author: Sepideh Soleimani"
      ]
    },
    {
      "metadata": {
        "id": "wR76IQy4Tk30"
      },
      "cell_type": "markdown",
      "source": [
        "**(1) Give one example of each of the following type of data.**"
      ]
    },
    {
      "metadata": {
        "id": "gEfV7_eLTk30"
      },
      "cell_type": "markdown",
      "source": [
        "Answer:\n",
        "\n",
        "(a) Analog: voice in a room (b) Digital: voice stored in a video\n",
        "\n",
        "(b) Digital:\n",
        "\n",
        "(c) Primary:\n",
        "\n",
        "(d) Secondary (i.e., lack of data that is informative):\n",
        "\n",
        "(e) Metadata:\n",
        "\n",
        "(f) Environmental:"
      ]
    },
    {
      "metadata": {
        "id": "bQYZgfiTTk31"
      },
      "cell_type": "markdown",
      "source": [
        "**(2) Write one example when the same structured data can be classified as (a) information, (b) redundancy and (c) not interpretable.**"
      ]
    },
    {
      "metadata": {
        "id": "ysrBOl87Tk31"
      },
      "cell_type": "markdown",
      "source": [
        "Answer:"
      ]
    },
    {
      "metadata": {
        "id": "H6LI2dqeTk31"
      },
      "cell_type": "markdown",
      "source": [
        "**(3) Photo-voltaic generation converts the sun's radiation into usable electricity. In this task, you will get the *direct solar radiation* with 1 minute time interval from the *Radiation observations*  at [FMI](http://en.ilmatieteenlaitos.fi/download-observations#!/). Plot radiation profile of three different days so that one must be in March, other in July and the last in December (regardless of the year). What measuring station was used? Compare the solar radiation in those 3 days and provide *information* about the potential of solar generation in those days. You can also select the measuring station (but write it in the answer).**\n",
        "\n",
        "*Hint:* Code like in the tutorial notebook."
      ]
    },
    {
      "metadata": {
        "trusted": false,
        "id": "CyiE7rx8Tk32"
      },
      "cell_type": "code",
      "source": [],
      "execution_count": null,
      "outputs": []
    },
    {
      "metadata": {
        "id": "gr8G9qGKTk32"
      },
      "cell_type": "markdown",
      "source": [
        "**(4) Read the text [What Does the Metaverse Mean for the Future of Energy Consumption?](https://earth.org/metaverse-energy-consumption/). Write a brief analysis of the text based on the relation between data, energy and level of processes. From the energy perspective, is it possible to maintain this kind of technologies? Note: This is clearly not a right/wrong question, but a space to critically think about current issues related to the course.**"
      ]
    },
    {
      "metadata": {
        "id": "Ar9p0adHTk33"
      },
      "cell_type": "markdown",
      "source": [
        "Answer:"
      ]
    }
  ],
  "metadata": {
    "kernelspec": {
      "name": "python36",
      "display_name": "Python 3.6",
      "language": "python"
    },
    "language_info": {
      "mimetype": "text/x-python",
      "nbconvert_exporter": "python",
      "name": "python",
      "pygments_lexer": "ipython3",
      "version": "3.6.6",
      "file_extension": ".py",
      "codemirror_mode": {
        "version": 3,
        "name": "ipython"
      }
    },
    "colab": {
      "provenance": []
    }
  },
  "nbformat": 4,
  "nbformat_minor": 0
}