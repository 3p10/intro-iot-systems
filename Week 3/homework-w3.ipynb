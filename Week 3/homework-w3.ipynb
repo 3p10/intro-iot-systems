{
  "cells": [
    {
      "metadata": {
        "collapsed": true,
        "id": "dIOmfOFqIRHQ"
      },
      "cell_type": "markdown",
      "source": [
        "# BL40A2010 Introduction to IoT-Based Systems\n",
        "\n",
        "## Assignment 3, 01.02.2024\n",
        "\n",
        "### Author: Sepideh Soleimani"
      ]
    },
    {
      "metadata": {
        "id": "vOKFVbI-IRHV"
      },
      "cell_type": "markdown",
      "source": [
        "**(1) Compute the following for a ring topology of $N=5$ and $N=6$  nodes considering that the network in unweighted and the links are directed. The result will give these number as a function of $N$.** ![](https://github.com/3p10/intro-iot-systems/blob/master/Week%203/ring.png?raw=1) *Fig. 1 Example when $N=6$.*"
      ]
    },
    {
      "metadata": {
        "id": "z-UqTw6uIRHW"
      },
      "cell_type": "markdown",
      "source": [
        "Answer:\n",
        "\n",
        "(a) Degree of nodes: The degree of each node is 2\n",
        "\n",
        "(b) Adjacent matrix:\n",
        "(0 1 0 0 0 1)\n",
        "\n",
        "(1 0 1 0 0 0)\n",
        "\n",
        "(0 1 0 1 0 0)\n",
        "\n",
        "(0 0 1 0 1 0)\n",
        "\n",
        "(0 0 0 1 0 1)\n",
        "\n",
        "(1 0 0 0 1 0)\n",
        "\n",
        "(c) Diameter: N/2 = 6/2 = 3\n",
        "\n",
        "(d) Clustering coefficient of the nodes: 0 since there are no triangles in the network\n",
        "\n"
      ]
    },
    {
      "metadata": {
        "id": "6NkRi3fbIRHX"
      },
      "cell_type": "markdown",
      "source": [
        "**(2) Use NetworkX to draw and analyze a ring topology with 5 nodes. Verify if the results previously obtained are valid.**"
      ]
    },
    {
      "metadata": {
        "trusted": false,
        "id": "EPz17fn0IRHX"
      },
      "cell_type": "code",
      "source": [],
      "execution_count": null,
      "outputs": []
    },
    {
      "metadata": {
        "id": "UBcurjeyIRHY"
      },
      "cell_type": "markdown",
      "source": [
        "**(3) Analyze the ring topology with size 15 ($N=15$) as a communication network (i.e. how data travel to a point to another in the network) based on the node degree, the network diameter and the cluster coefficient.**"
      ]
    },
    {
      "metadata": {
        "id": "rnr8QsVCIRHY"
      },
      "cell_type": "markdown",
      "source": [
        "Answer: From question 1, the complete graph with N = 15 is a communication network where every node is connected to every other node. This means that peer-to-peer (single-hop) links can be formed, not requiring multiple hops (this fact is presented by the network diameter). On the other hand, there might happen problems when many \"talk\" to one at the same time (the node degree is 14 ). This topology is robust against attacks against links or edges since it is clusterized (there is no special node or brigde connecting network components)."
      ]
    },
    {
      "metadata": {
        "id": "HLguFs6oIRHY"
      },
      "cell_type": "markdown",
      "source": [
        "**(4) Consider the ring network from the previous question. The network performance depends on its diameter. As a designer, you can add one new node in the network (and an unlimited number of links that this node is part) . Justify your decision and evaluate how much better the network is. Generalize this finding as a function of $N$.**\n",
        "\n",
        "*Hint:*  Follow Exercise 1 approach to generalize the finding."
      ]
    },
    {
      "metadata": {
        "id": "FVR3Dt8SIRHZ"
      },
      "cell_type": "markdown",
      "source": [
        "Answer:"
      ]
    }
  ],
  "metadata": {
    "kernelspec": {
      "name": "python36",
      "display_name": "Python 3.6",
      "language": "python"
    },
    "language_info": {
      "mimetype": "text/x-python",
      "nbconvert_exporter": "python",
      "name": "python",
      "pygments_lexer": "ipython3",
      "version": "3.6.6",
      "file_extension": ".py",
      "codemirror_mode": {
        "version": 3,
        "name": "ipython"
      }
    },
    "colab": {
      "provenance": []
    }
  },
  "nbformat": 4,
  "nbformat_minor": 0
}