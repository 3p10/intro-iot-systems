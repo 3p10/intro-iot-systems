{
  "cells": [
    {
      "metadata": {
        "collapsed": true,
        "id": "w1TonSbJPcDc"
      },
      "cell_type": "markdown",
      "source": [
        "# BL40A2010 Introduction to IoT-Based Systems\n",
        "\n",
        "## Assignment 4, DD.MM.YYYY\n",
        "\n",
        "### Author:"
      ]
    },
    {
      "metadata": {
        "id": "TYOK9j77PcDh"
      },
      "cell_type": "markdown",
      "source": [
        "**(1) Draw a graph with star topology with five nodes (one in the center $A$, four in the edges $B$-$E$).\n",
        "If the topology is directed as a many-to-one topology, write the structure of awareness of the system, considering that nodes $B$-$E$ acquire and process data about a supporting reality $T$, while $A$ can only receive data from it. Remember the notation $Xy$ means the image of $X$ by $Y$.**"
      ]
    },
    {
      "metadata": {
        "trusted": false,
        "id": "9yhF9V5KPcDh"
      },
      "cell_type": "code",
      "source": [
        "import networkx as nx #https://networkx.github.io/\n",
        "import matplotlib.pyplot as plt #https://matplotlib.org/\n",
        "import scipy as sp\n",
        "import numpy as np"
      ],
      "execution_count": 8,
      "outputs": []
    },
    {
      "cell_type": "code",
      "source": [
        "G = nx.Graph()\n",
        "G = nx.star_graph(4)\n",
        "nx.draw_networkx(G, node_color='black', font_color='white', edge_color='black',\n",
        "                 font_weight='bold',  node_size=500, labels={0: 'A', 1: 'B', 2: 'C', 3: 'D', 4: 'E'})\n",
        "plt.axis('off')\n",
        "plt.show()"
      ],
      "metadata": {
        "id": "LnwacQRWPmQd",
        "outputId": "978f89b3-3e3c-4338-cbbf-4a9c05d284e1",
        "colab": {
          "base_uri": "https://localhost:8080/",
          "height": 406
        }
      },
      "execution_count": 9,
      "outputs": [
        {
          "output_type": "display_data",
          "data": {
            "text/plain": [
              "<Figure size 640x480 with 1 Axes>"
            ],
            "image/png": "[encoded data removed]"
          },
          "metadata": {}
        }
      ]
    },
    {
      "metadata": {
        "id": "Ot1Zo2bxPcDi"
      },
      "cell_type": "markdown",
      "source": [
        "**(2) Assume that graph illustrate a scenario of four sensor nodes that also (pre-)process data and one aggregator node as follows. Nodes $B$ and $C$ monitor temperature and wind speed at Airport station in Lappeenranta, respectively. Nodes $D$ and $E$ monitor temperature and wind speed at Lepola station in Lappeenranta, respectively. Nodes $B$ and $D$ send a binary message to $A$ indicating if during that period the temperature was more than $25$ degrees (\"1\" means above, \"0\" means below or equal to). Likewise nodes $C$ and $E$ send a binary message to $A$ indicating if during that period the wind speed was more than $5$ m/s (\"1\" means above, \"0\" means below or equal to). Download and plot the data from [FMI](http://en.ilmatieteenlaitos.fi/download-observations\\#!/) with 1 hour resolution during July, 2018. Using this data, plot the binary signals sent from the nodes $B$-$E$ to the aggregator $A$.**"
      ]
    },
    {
      "metadata": {
        "trusted": false,
        "id": "h_GpX8RYPcDi"
      },
      "cell_type": "code",
      "source": [
        "#Import libraries\n",
        "import pandas as pd #https://pandas.pydata.org/\n",
        "#import matplotlib.pyplot as plt #https://matplotlib.org/\n",
        "import matplotlib.dates as mdates #https://matplotlib.org/\n",
        "#import numpy as np #http://www.numpy.org/\n",
        "#from datetime import date #https://docs.python.org/3/library/datetime.html"
      ],
      "execution_count": 10,
      "outputs": []
    },
    {
      "cell_type": "code",
      "source": [
        "import warnings\n",
        "warnings.filterwarnings('ignore')"
      ],
      "metadata": {
        "id": "RlM_PfVoPtNP"
      },
      "execution_count": 11,
      "outputs": []
    },
    {
      "cell_type": "code",
      "source": [
        "# read csv data from Lappeenranta Lepola\n",
        "lepola = pd.read_csv(\"lpr-lepola.csv\", dayfirst=True, sep=\",\",\n",
        "                      header=0, decimal=b\".\", index_col=0,\n",
        "                      parse_dates=[[0,1,2,3]], usecols=[0,1,2,3,5,6])\n",
        "\n",
        "lepola.info()"
      ],
      "metadata": {
        "id": "D6V962FTPwFj",
        "outputId": "c8c56972-5024-4338-809f-ddeda2e78491",
        "colab": {
          "base_uri": "https://localhost:8080/"
        }
      },
      "execution_count": 13,
      "outputs": [
        {
          "output_type": "stream",
          "name": "stdout",
          "text": [
            "<class 'pandas.core.frame.DataFrame'>\n",
            "Index: 745 entries, 2018 7 1 00:00 to 2018 8 1 00:00\n",
            "Data columns (total 2 columns):\n",
            " #   Column                  Non-Null Count  Dtype  \n",
            "---  ------                  --------------  -----  \n",
            " 0   Air temperature (degC)  745 non-null    float64\n",
            " 1   Wind speed (m/s)        740 non-null    float64\n",
            "dtypes: float64(2)\n",
            "memory usage: 17.5+ KB\n"
          ]
        }
      ]
    },
    {
      "cell_type": "code",
      "source": [
        "# read csv data from Lappeenranta Lentoasema\n",
        "lentoasema = pd.read_csv(\"lpr-lentoasema.csv\", dayfirst=True, sep=\",\",\n",
        "                      header=0, decimal=b\".\", index_col=0,\n",
        "                      parse_dates=[[0,1,2,3]], usecols=[0,1,2,3,5,6])\n",
        "\n",
        "lentoasema.info()"
      ],
      "metadata": {
        "colab": {
          "base_uri": "https://localhost:8080/"
        },
        "id": "oEnrJfJEQ5Qd",
        "outputId": "39b593d5-5b7c-4d1a-8c82-fa24f9970d1d"
      },
      "execution_count": 15,
      "outputs": [
        {
          "output_type": "stream",
          "name": "stdout",
          "text": [
            "<class 'pandas.core.frame.DataFrame'>\n",
            "Index: 745 entries, 2018 7 1 00:00 to 2018 8 1 00:00\n",
            "Data columns (total 2 columns):\n",
            " #   Column                  Non-Null Count  Dtype  \n",
            "---  ------                  --------------  -----  \n",
            " 0   Air temperature (degC)  745 non-null    float64\n",
            " 1   Wind speed (m/s)        745 non-null    float64\n",
            "dtypes: float64(2)\n",
            "memory usage: 17.5+ KB\n"
          ]
        }
      ]
    },
    {
      "cell_type": "code",
      "source": [
        "# assigning each nodes\n",
        "nodes_b = lentoasema.drop(columns=\"Wind speed (m/s)\")\n",
        "nodes_c = lentoasema.drop(columns=\"Air temperature (degC)\")\n",
        "nodes_d = lepola.drop(columns=\"Wind speed (m/s)\")\n",
        "nodes_e = lepola.drop(columns=\"Air temperature (degC)\")\n",
        "\n",
        "nodes_b.info();\n",
        "nodes_c.info();\n",
        "nodes_d.info();\n",
        "nodes_e.info();"
      ],
      "metadata": {
        "id": "gglbdE1SRiAn",
        "outputId": "c9387797-6718-44a8-ccbc-dea7abacb2ce",
        "colab": {
          "base_uri": "https://localhost:8080/"
        }
      },
      "execution_count": 16,
      "outputs": [
        {
          "output_type": "stream",
          "name": "stdout",
          "text": [
            "<class 'pandas.core.frame.DataFrame'>\n",
            "Index: 745 entries, 2018 7 1 00:00 to 2018 8 1 00:00\n",
            "Data columns (total 1 columns):\n",
            " #   Column                  Non-Null Count  Dtype  \n",
            "---  ------                  --------------  -----  \n",
            " 0   Air temperature (degC)  745 non-null    float64\n",
            "dtypes: float64(1)\n",
            "memory usage: 11.6+ KB\n",
            "<class 'pandas.core.frame.DataFrame'>\n",
            "Index: 745 entries, 2018 7 1 00:00 to 2018 8 1 00:00\n",
            "Data columns (total 1 columns):\n",
            " #   Column            Non-Null Count  Dtype  \n",
            "---  ------            --------------  -----  \n",
            " 0   Wind speed (m/s)  745 non-null    float64\n",
            "dtypes: float64(1)\n",
            "memory usage: 11.6+ KB\n",
            "<class 'pandas.core.frame.DataFrame'>\n",
            "Index: 745 entries, 2018 7 1 00:00 to 2018 8 1 00:00\n",
            "Data columns (total 1 columns):\n",
            " #   Column                  Non-Null Count  Dtype  \n",
            "---  ------                  --------------  -----  \n",
            " 0   Air temperature (degC)  745 non-null    float64\n",
            "dtypes: float64(1)\n",
            "memory usage: 11.6+ KB\n",
            "<class 'pandas.core.frame.DataFrame'>\n",
            "Index: 745 entries, 2018 7 1 00:00 to 2018 8 1 00:00\n",
            "Data columns (total 1 columns):\n",
            " #   Column            Non-Null Count  Dtype  \n",
            "---  ------            --------------  -----  \n",
            " 0   Wind speed (m/s)  740 non-null    float64\n",
            "dtypes: float64(1)\n",
            "memory usage: 11.6+ KB\n"
          ]
        }
      ]
    },
    {
      "metadata": {
        "id": "fqHGt_-PPcDj"
      },
      "cell_type": "markdown",
      "source": [
        "**(3) Node $A$ needs to identify risky situations in Lappeenranta when the temperature is above $25$ degrees and the wind is above $5$ m/s based on the sensors' signals. If a risky situation is identified at node $A$ as binary number \"1\" while normal situations as \"0\". How would you solve this problem? Plot the output signal from node $A$ and discuss its relation to the input signals from $B$-$E$.**"
      ]
    },
    {
      "metadata": {
        "trusted": false,
        "id": "6Gu3sPVXPcDj"
      },
      "cell_type": "code",
      "source": [],
      "execution_count": null,
      "outputs": []
    }
  ],
  "metadata": {
    "kernelspec": {
      "name": "python36",
      "display_name": "Python 3.6",
      "language": "python"
    },
    "language_info": {
      "mimetype": "text/x-python",
      "nbconvert_exporter": "python",
      "name": "python",
      "pygments_lexer": "ipython3",
      "version": "3.6.6",
      "file_extension": ".py",
      "codemirror_mode": {
        "version": 3,
        "name": "ipython"
      }
    },
    "colab": {
      "provenance": []
    }
  },
  "nbformat": 4,
  "nbformat_minor": 0
}